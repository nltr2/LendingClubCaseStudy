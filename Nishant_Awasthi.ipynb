{
 "cells": [
  {
   "cell_type": "markdown",
   "metadata": {},
   "source": [
    "# Lending club case study"
   ]
  },
  {
   "cell_type": "markdown",
   "metadata": {},
   "source": [
    "Steps : \n",
    "\n",
    "- First load data and get shape\n",
    "- Drop all coulmns with all value Nan or if column values are same like 0\n",
    "- Drop columns like URL or cutomer behavior variables which may not have any impact\n",
    "- Describe dataset\n",
    "- Drop rows for Current as we are not interested in this :  we are interested in Fully paid and Charged off\n",
    "- Create derived columns if required  \n",
    "- Create plots to check for univariate and Bivariate analysis.\n",
    "\n",
    "Notes: \n",
    "identify outliers using box plot.\n",
    "\n",
    "imp variables: loan_amnt (asked amount by borrower) , funded_amnt (authorized some fund by market place : suggested amount by market place to lender), funded_amnt_inv (actual amount given by lender reaching to borrower),emp_len, check grade and subgrade.\n",
    "\n",
    "check types of loan :  \n",
    "\n",
    "conclusion : who may default based on factors?\n"
   ]
  },
  {
   "cell_type": "markdown",
   "metadata": {},
   "source": [
    "## Data Understanding\n",
    "Data set contains information about loans sanctioned to different people. It has info about the loan as well as some details about the borrower. Listing few important columns which will help for our analysis to find the driving variables behind loan default.\n",
    "\n",
    "Details about loan:\n",
    "\n",
    "- funded_amnt_inv: Loan amount which is sanctioned by investor and recieved by the borrower.\n",
    "- int_rate: Interest rate at which loan is given.\n",
    "- term: loan repayment tenure.\n",
    "- grade: Loan grade.\n",
    "- sub grade: Loan sub grade.\n",
    "- loan_status: current status of the loan.\n",
    "\n",
    "Details about borrower:\n",
    "\n",
    "- home_ownership: Whether borrower owns a house or if he stays in rented house.\n",
    "- annual_inc: Anual income of borrower as per his/her declaration.\n",
    "- verification_status: Wether income source is verified or not."
   ]
  },
  {
   "cell_type": "code",
   "execution_count": 43,
   "metadata": {},
   "outputs": [],
   "source": [
    "## imports\n",
    "\n",
    "import numpy as np\n",
    "import pandas as pd\n",
    "import matplotlib.pyplot as plt\n",
    "import seaborn as sns\n",
    "import warnings as ws"
   ]
  },
  {
   "cell_type": "code",
   "execution_count": 44,
   "metadata": {},
   "outputs": [],
   "source": [
    "ws.filterwarnings('ignore')\n",
    "pd.options.display.max_columns=150\n"
   ]
  },
  {
   "cell_type": "code",
   "execution_count": 45,
   "metadata": {},
   "outputs": [
    {
     "data": {
      "text/plain": [
       "(39717, 111)"
      ]
     },
     "execution_count": 45,
     "metadata": {},
     "output_type": "execute_result"
    }
   ],
   "source": [
    "#load dataset and get shape\n",
    "loan_data = pd.read_csv('loan/loan.csv')\n",
    "loan_data.shape"
   ]
  },
  {
   "cell_type": "markdown",
   "metadata": {},
   "source": [
    "## Data Cleaning"
   ]
  },
  {
   "cell_type": "code",
   "execution_count": 46,
   "metadata": {},
   "outputs": [
    {
     "data": {
      "text/plain": [
       "(39717, 57)"
      ]
     },
     "execution_count": 46,
     "metadata": {},
     "output_type": "execute_result"
    }
   ],
   "source": [
    "# drop columns with null values.\n",
    "loan_data.dropna(how='all', axis=1, inplace=True)\n",
    "loan_data.shape"
   ]
  },
  {
   "cell_type": "markdown",
   "metadata": {},
   "source": [
    "drop columns with single values as it will not affect the exploratory analysis"
   ]
  },
  {
   "cell_type": "code",
   "execution_count": 47,
   "metadata": {},
   "outputs": [
    {
     "data": {
      "text/plain": [
       "(39717, 51)"
      ]
     },
     "execution_count": 47,
     "metadata": {},
     "output_type": "execute_result"
    }
   ],
   "source": [
    "for col in loan_data.columns:\n",
    "    if len(loan_data[col].unique()) == 1:\n",
    "        loan_data.drop(col,inplace=True,axis=1)\n",
    "loan_data.shape"
   ]
  },
  {
   "cell_type": "markdown",
   "metadata": {},
   "source": [
    "### drop customer behavior coulmns as suggested in Upgrad session"
   ]
  },
  {
   "cell_type": "code",
   "execution_count": 48,
   "metadata": {},
   "outputs": [
    {
     "data": {
      "text/plain": [
       "(39717, 31)"
      ]
     },
     "execution_count": 48,
     "metadata": {},
     "output_type": "execute_result"
    }
   ],
   "source": [
    "drop_col= ['delinq_2yrs','earliest_cr_line','inq_last_6mths','open_acc','pub_rec','revol_bal','revol_util','total_acc','out_prncp','out_prncp_inv','total_pymnt','total_pymnt_inv','total_rec_prncp','total_rec_int','total_rec_late_fee','recoveries','collection_recovery_fee','last_pymnt_d','last_pymnt_amnt','last_credit_pull_d']\n",
    "loan_data.drop(drop_col, axis=1,inplace=True)\n",
    "loan_data.shape"
   ]
  },
  {
   "cell_type": "markdown",
   "metadata": {},
   "source": [
    "#### describe data"
   ]
  },
  {
   "cell_type": "code",
   "execution_count": 49,
   "metadata": {},
   "outputs": [
    {
     "data": {
      "text/html": [
       "<div>\n",
       "<style scoped>\n",
       "    .dataframe tbody tr th:only-of-type {\n",
       "        vertical-align: middle;\n",
       "    }\n",
       "\n",
       "    .dataframe tbody tr th {\n",
       "        vertical-align: top;\n",
       "    }\n",
       "\n",
       "    .dataframe thead th {\n",
       "        text-align: right;\n",
       "    }\n",
       "</style>\n",
       "<table border=\"1\" class=\"dataframe\">\n",
       "  <thead>\n",
       "    <tr style=\"text-align: right;\">\n",
       "      <th></th>\n",
       "      <th>id</th>\n",
       "      <th>member_id</th>\n",
       "      <th>loan_amnt</th>\n",
       "      <th>funded_amnt</th>\n",
       "      <th>funded_amnt_inv</th>\n",
       "      <th>installment</th>\n",
       "      <th>annual_inc</th>\n",
       "      <th>dti</th>\n",
       "      <th>mths_since_last_delinq</th>\n",
       "      <th>mths_since_last_record</th>\n",
       "      <th>collections_12_mths_ex_med</th>\n",
       "      <th>chargeoff_within_12_mths</th>\n",
       "      <th>pub_rec_bankruptcies</th>\n",
       "      <th>tax_liens</th>\n",
       "    </tr>\n",
       "  </thead>\n",
       "  <tbody>\n",
       "    <tr>\n",
       "      <th>count</th>\n",
       "      <td>3.971700e+04</td>\n",
       "      <td>3.971700e+04</td>\n",
       "      <td>39717.000000</td>\n",
       "      <td>39717.000000</td>\n",
       "      <td>39717.000000</td>\n",
       "      <td>39717.000000</td>\n",
       "      <td>3.971700e+04</td>\n",
       "      <td>39717.000000</td>\n",
       "      <td>14035.000000</td>\n",
       "      <td>2786.000000</td>\n",
       "      <td>39661.0</td>\n",
       "      <td>39661.0</td>\n",
       "      <td>39020.000000</td>\n",
       "      <td>39678.0</td>\n",
       "    </tr>\n",
       "    <tr>\n",
       "      <th>mean</th>\n",
       "      <td>6.831319e+05</td>\n",
       "      <td>8.504636e+05</td>\n",
       "      <td>11219.443815</td>\n",
       "      <td>10947.713196</td>\n",
       "      <td>10397.448868</td>\n",
       "      <td>324.561922</td>\n",
       "      <td>6.896893e+04</td>\n",
       "      <td>13.315130</td>\n",
       "      <td>35.900962</td>\n",
       "      <td>69.698134</td>\n",
       "      <td>0.0</td>\n",
       "      <td>0.0</td>\n",
       "      <td>0.043260</td>\n",
       "      <td>0.0</td>\n",
       "    </tr>\n",
       "    <tr>\n",
       "      <th>std</th>\n",
       "      <td>2.106941e+05</td>\n",
       "      <td>2.656783e+05</td>\n",
       "      <td>7456.670694</td>\n",
       "      <td>7187.238670</td>\n",
       "      <td>7128.450439</td>\n",
       "      <td>208.874874</td>\n",
       "      <td>6.379377e+04</td>\n",
       "      <td>6.678594</td>\n",
       "      <td>22.020060</td>\n",
       "      <td>43.822529</td>\n",
       "      <td>0.0</td>\n",
       "      <td>0.0</td>\n",
       "      <td>0.204324</td>\n",
       "      <td>0.0</td>\n",
       "    </tr>\n",
       "    <tr>\n",
       "      <th>min</th>\n",
       "      <td>5.473400e+04</td>\n",
       "      <td>7.069900e+04</td>\n",
       "      <td>500.000000</td>\n",
       "      <td>500.000000</td>\n",
       "      <td>0.000000</td>\n",
       "      <td>15.690000</td>\n",
       "      <td>4.000000e+03</td>\n",
       "      <td>0.000000</td>\n",
       "      <td>0.000000</td>\n",
       "      <td>0.000000</td>\n",
       "      <td>0.0</td>\n",
       "      <td>0.0</td>\n",
       "      <td>0.000000</td>\n",
       "      <td>0.0</td>\n",
       "    </tr>\n",
       "    <tr>\n",
       "      <th>25%</th>\n",
       "      <td>5.162210e+05</td>\n",
       "      <td>6.667800e+05</td>\n",
       "      <td>5500.000000</td>\n",
       "      <td>5400.000000</td>\n",
       "      <td>5000.000000</td>\n",
       "      <td>167.020000</td>\n",
       "      <td>4.040400e+04</td>\n",
       "      <td>8.170000</td>\n",
       "      <td>18.000000</td>\n",
       "      <td>22.000000</td>\n",
       "      <td>0.0</td>\n",
       "      <td>0.0</td>\n",
       "      <td>0.000000</td>\n",
       "      <td>0.0</td>\n",
       "    </tr>\n",
       "    <tr>\n",
       "      <th>50%</th>\n",
       "      <td>6.656650e+05</td>\n",
       "      <td>8.508120e+05</td>\n",
       "      <td>10000.000000</td>\n",
       "      <td>9600.000000</td>\n",
       "      <td>8975.000000</td>\n",
       "      <td>280.220000</td>\n",
       "      <td>5.900000e+04</td>\n",
       "      <td>13.400000</td>\n",
       "      <td>34.000000</td>\n",
       "      <td>90.000000</td>\n",
       "      <td>0.0</td>\n",
       "      <td>0.0</td>\n",
       "      <td>0.000000</td>\n",
       "      <td>0.0</td>\n",
       "    </tr>\n",
       "    <tr>\n",
       "      <th>75%</th>\n",
       "      <td>8.377550e+05</td>\n",
       "      <td>1.047339e+06</td>\n",
       "      <td>15000.000000</td>\n",
       "      <td>15000.000000</td>\n",
       "      <td>14400.000000</td>\n",
       "      <td>430.780000</td>\n",
       "      <td>8.230000e+04</td>\n",
       "      <td>18.600000</td>\n",
       "      <td>52.000000</td>\n",
       "      <td>104.000000</td>\n",
       "      <td>0.0</td>\n",
       "      <td>0.0</td>\n",
       "      <td>0.000000</td>\n",
       "      <td>0.0</td>\n",
       "    </tr>\n",
       "    <tr>\n",
       "      <th>max</th>\n",
       "      <td>1.077501e+06</td>\n",
       "      <td>1.314167e+06</td>\n",
       "      <td>35000.000000</td>\n",
       "      <td>35000.000000</td>\n",
       "      <td>35000.000000</td>\n",
       "      <td>1305.190000</td>\n",
       "      <td>6.000000e+06</td>\n",
       "      <td>29.990000</td>\n",
       "      <td>120.000000</td>\n",
       "      <td>129.000000</td>\n",
       "      <td>0.0</td>\n",
       "      <td>0.0</td>\n",
       "      <td>2.000000</td>\n",
       "      <td>0.0</td>\n",
       "    </tr>\n",
       "  </tbody>\n",
       "</table>\n",
       "</div>"
      ],
      "text/plain": [
       "                 id     member_id     loan_amnt   funded_amnt  \\\n",
       "count  3.971700e+04  3.971700e+04  39717.000000  39717.000000   \n",
       "mean   6.831319e+05  8.504636e+05  11219.443815  10947.713196   \n",
       "std    2.106941e+05  2.656783e+05   7456.670694   7187.238670   \n",
       "min    5.473400e+04  7.069900e+04    500.000000    500.000000   \n",
       "25%    5.162210e+05  6.667800e+05   5500.000000   5400.000000   \n",
       "50%    6.656650e+05  8.508120e+05  10000.000000   9600.000000   \n",
       "75%    8.377550e+05  1.047339e+06  15000.000000  15000.000000   \n",
       "max    1.077501e+06  1.314167e+06  35000.000000  35000.000000   \n",
       "\n",
       "       funded_amnt_inv   installment    annual_inc           dti  \\\n",
       "count     39717.000000  39717.000000  3.971700e+04  39717.000000   \n",
       "mean      10397.448868    324.561922  6.896893e+04     13.315130   \n",
       "std        7128.450439    208.874874  6.379377e+04      6.678594   \n",
       "min           0.000000     15.690000  4.000000e+03      0.000000   \n",
       "25%        5000.000000    167.020000  4.040400e+04      8.170000   \n",
       "50%        8975.000000    280.220000  5.900000e+04     13.400000   \n",
       "75%       14400.000000    430.780000  8.230000e+04     18.600000   \n",
       "max       35000.000000   1305.190000  6.000000e+06     29.990000   \n",
       "\n",
       "       mths_since_last_delinq  mths_since_last_record  \\\n",
       "count            14035.000000             2786.000000   \n",
       "mean                35.900962               69.698134   \n",
       "std                 22.020060               43.822529   \n",
       "min                  0.000000                0.000000   \n",
       "25%                 18.000000               22.000000   \n",
       "50%                 34.000000               90.000000   \n",
       "75%                 52.000000              104.000000   \n",
       "max                120.000000              129.000000   \n",
       "\n",
       "       collections_12_mths_ex_med  chargeoff_within_12_mths  \\\n",
       "count                     39661.0                   39661.0   \n",
       "mean                          0.0                       0.0   \n",
       "std                           0.0                       0.0   \n",
       "min                           0.0                       0.0   \n",
       "25%                           0.0                       0.0   \n",
       "50%                           0.0                       0.0   \n",
       "75%                           0.0                       0.0   \n",
       "max                           0.0                       0.0   \n",
       "\n",
       "       pub_rec_bankruptcies  tax_liens  \n",
       "count          39020.000000    39678.0  \n",
       "mean               0.043260        0.0  \n",
       "std                0.204324        0.0  \n",
       "min                0.000000        0.0  \n",
       "25%                0.000000        0.0  \n",
       "50%                0.000000        0.0  \n",
       "75%                0.000000        0.0  \n",
       "max                2.000000        0.0  "
      ]
     },
     "execution_count": 49,
     "metadata": {},
     "output_type": "execute_result"
    }
   ],
   "source": [
    "loan_data.describe()"
   ]
  },
  {
   "cell_type": "code",
   "execution_count": 50,
   "metadata": {},
   "outputs": [
    {
     "data": {
      "text/html": [
       "<div>\n",
       "<style scoped>\n",
       "    .dataframe tbody tr th:only-of-type {\n",
       "        vertical-align: middle;\n",
       "    }\n",
       "\n",
       "    .dataframe tbody tr th {\n",
       "        vertical-align: top;\n",
       "    }\n",
       "\n",
       "    .dataframe thead th {\n",
       "        text-align: right;\n",
       "    }\n",
       "</style>\n",
       "<table border=\"1\" class=\"dataframe\">\n",
       "  <thead>\n",
       "    <tr style=\"text-align: right;\">\n",
       "      <th></th>\n",
       "      <th>id</th>\n",
       "      <th>member_id</th>\n",
       "      <th>loan_amnt</th>\n",
       "      <th>funded_amnt</th>\n",
       "      <th>funded_amnt_inv</th>\n",
       "      <th>term</th>\n",
       "      <th>int_rate</th>\n",
       "      <th>installment</th>\n",
       "      <th>grade</th>\n",
       "      <th>sub_grade</th>\n",
       "      <th>emp_title</th>\n",
       "      <th>emp_length</th>\n",
       "      <th>home_ownership</th>\n",
       "      <th>annual_inc</th>\n",
       "      <th>verification_status</th>\n",
       "      <th>issue_d</th>\n",
       "      <th>loan_status</th>\n",
       "      <th>url</th>\n",
       "      <th>desc</th>\n",
       "      <th>purpose</th>\n",
       "      <th>title</th>\n",
       "      <th>zip_code</th>\n",
       "      <th>addr_state</th>\n",
       "      <th>dti</th>\n",
       "      <th>mths_since_last_delinq</th>\n",
       "      <th>mths_since_last_record</th>\n",
       "      <th>next_pymnt_d</th>\n",
       "      <th>collections_12_mths_ex_med</th>\n",
       "      <th>chargeoff_within_12_mths</th>\n",
       "      <th>pub_rec_bankruptcies</th>\n",
       "      <th>tax_liens</th>\n",
       "    </tr>\n",
       "  </thead>\n",
       "  <tbody>\n",
       "    <tr>\n",
       "      <th>0</th>\n",
       "      <td>1077501</td>\n",
       "      <td>1296599</td>\n",
       "      <td>5000</td>\n",
       "      <td>5000</td>\n",
       "      <td>4975.0</td>\n",
       "      <td>36 months</td>\n",
       "      <td>10.65%</td>\n",
       "      <td>162.87</td>\n",
       "      <td>B</td>\n",
       "      <td>B2</td>\n",
       "      <td>NaN</td>\n",
       "      <td>10+ years</td>\n",
       "      <td>RENT</td>\n",
       "      <td>24000.0</td>\n",
       "      <td>Verified</td>\n",
       "      <td>Dec-11</td>\n",
       "      <td>Fully Paid</td>\n",
       "      <td>https://lendingclub.com/browse/loanDetail.acti...</td>\n",
       "      <td>Borrower added on 12/22/11 &gt; I need to upgra...</td>\n",
       "      <td>credit_card</td>\n",
       "      <td>Computer</td>\n",
       "      <td>860xx</td>\n",
       "      <td>AZ</td>\n",
       "      <td>27.65</td>\n",
       "      <td>NaN</td>\n",
       "      <td>NaN</td>\n",
       "      <td>NaN</td>\n",
       "      <td>0.0</td>\n",
       "      <td>0.0</td>\n",
       "      <td>0.0</td>\n",
       "      <td>0.0</td>\n",
       "    </tr>\n",
       "    <tr>\n",
       "      <th>1</th>\n",
       "      <td>1077430</td>\n",
       "      <td>1314167</td>\n",
       "      <td>2500</td>\n",
       "      <td>2500</td>\n",
       "      <td>2500.0</td>\n",
       "      <td>60 months</td>\n",
       "      <td>15.27%</td>\n",
       "      <td>59.83</td>\n",
       "      <td>C</td>\n",
       "      <td>C4</td>\n",
       "      <td>Ryder</td>\n",
       "      <td>&lt; 1 year</td>\n",
       "      <td>RENT</td>\n",
       "      <td>30000.0</td>\n",
       "      <td>Source Verified</td>\n",
       "      <td>Dec-11</td>\n",
       "      <td>Charged Off</td>\n",
       "      <td>https://lendingclub.com/browse/loanDetail.acti...</td>\n",
       "      <td>Borrower added on 12/22/11 &gt; I plan to use t...</td>\n",
       "      <td>car</td>\n",
       "      <td>bike</td>\n",
       "      <td>309xx</td>\n",
       "      <td>GA</td>\n",
       "      <td>1.00</td>\n",
       "      <td>NaN</td>\n",
       "      <td>NaN</td>\n",
       "      <td>NaN</td>\n",
       "      <td>0.0</td>\n",
       "      <td>0.0</td>\n",
       "      <td>0.0</td>\n",
       "      <td>0.0</td>\n",
       "    </tr>\n",
       "    <tr>\n",
       "      <th>2</th>\n",
       "      <td>1077175</td>\n",
       "      <td>1313524</td>\n",
       "      <td>2400</td>\n",
       "      <td>2400</td>\n",
       "      <td>2400.0</td>\n",
       "      <td>36 months</td>\n",
       "      <td>15.96%</td>\n",
       "      <td>84.33</td>\n",
       "      <td>C</td>\n",
       "      <td>C5</td>\n",
       "      <td>NaN</td>\n",
       "      <td>10+ years</td>\n",
       "      <td>RENT</td>\n",
       "      <td>12252.0</td>\n",
       "      <td>Not Verified</td>\n",
       "      <td>Dec-11</td>\n",
       "      <td>Fully Paid</td>\n",
       "      <td>https://lendingclub.com/browse/loanDetail.acti...</td>\n",
       "      <td>NaN</td>\n",
       "      <td>small_business</td>\n",
       "      <td>real estate business</td>\n",
       "      <td>606xx</td>\n",
       "      <td>IL</td>\n",
       "      <td>8.72</td>\n",
       "      <td>NaN</td>\n",
       "      <td>NaN</td>\n",
       "      <td>NaN</td>\n",
       "      <td>0.0</td>\n",
       "      <td>0.0</td>\n",
       "      <td>0.0</td>\n",
       "      <td>0.0</td>\n",
       "    </tr>\n",
       "  </tbody>\n",
       "</table>\n",
       "</div>"
      ],
      "text/plain": [
       "        id  member_id  loan_amnt  funded_amnt  funded_amnt_inv        term  \\\n",
       "0  1077501    1296599       5000         5000           4975.0   36 months   \n",
       "1  1077430    1314167       2500         2500           2500.0   60 months   \n",
       "2  1077175    1313524       2400         2400           2400.0   36 months   \n",
       "\n",
       "  int_rate  installment grade sub_grade emp_title emp_length home_ownership  \\\n",
       "0   10.65%       162.87     B        B2       NaN  10+ years           RENT   \n",
       "1   15.27%        59.83     C        C4     Ryder   < 1 year           RENT   \n",
       "2   15.96%        84.33     C        C5       NaN  10+ years           RENT   \n",
       "\n",
       "   annual_inc verification_status issue_d  loan_status  \\\n",
       "0     24000.0            Verified  Dec-11   Fully Paid   \n",
       "1     30000.0     Source Verified  Dec-11  Charged Off   \n",
       "2     12252.0        Not Verified  Dec-11   Fully Paid   \n",
       "\n",
       "                                                 url  \\\n",
       "0  https://lendingclub.com/browse/loanDetail.acti...   \n",
       "1  https://lendingclub.com/browse/loanDetail.acti...   \n",
       "2  https://lendingclub.com/browse/loanDetail.acti...   \n",
       "\n",
       "                                                desc         purpose  \\\n",
       "0    Borrower added on 12/22/11 > I need to upgra...     credit_card   \n",
       "1    Borrower added on 12/22/11 > I plan to use t...             car   \n",
       "2                                                NaN  small_business   \n",
       "\n",
       "                  title zip_code addr_state    dti  mths_since_last_delinq  \\\n",
       "0              Computer    860xx         AZ  27.65                     NaN   \n",
       "1                  bike    309xx         GA   1.00                     NaN   \n",
       "2  real estate business    606xx         IL   8.72                     NaN   \n",
       "\n",
       "   mths_since_last_record next_pymnt_d  collections_12_mths_ex_med  \\\n",
       "0                     NaN          NaN                         0.0   \n",
       "1                     NaN          NaN                         0.0   \n",
       "2                     NaN          NaN                         0.0   \n",
       "\n",
       "   chargeoff_within_12_mths  pub_rec_bankruptcies  tax_liens  \n",
       "0                       0.0                   0.0        0.0  \n",
       "1                       0.0                   0.0        0.0  \n",
       "2                       0.0                   0.0        0.0  "
      ]
     },
     "execution_count": 50,
     "metadata": {},
     "output_type": "execute_result"
    }
   ],
   "source": [
    "# getting sample values\n",
    "loan_data.head(3)"
   ]
  },
  {
   "cell_type": "markdown",
   "metadata": {},
   "source": [
    "#### remove rows where loan_status is current"
   ]
  },
  {
   "cell_type": "code",
   "execution_count": 51,
   "metadata": {},
   "outputs": [
    {
     "data": {
      "text/plain": [
       "(39717, 31)"
      ]
     },
     "execution_count": 51,
     "metadata": {},
     "output_type": "execute_result"
    }
   ],
   "source": [
    "loan_data.shape"
   ]
  },
  {
   "cell_type": "code",
   "execution_count": 52,
   "metadata": {},
   "outputs": [
    {
     "data": {
      "text/plain": [
       "(38577, 31)"
      ]
     },
     "execution_count": 52,
     "metadata": {},
     "output_type": "execute_result"
    }
   ],
   "source": [
    "loan_data = loan_data[loan_data['loan_status'] != 'Current']\n",
    "\n",
    "loan_data.shape"
   ]
  },
  {
   "cell_type": "markdown",
   "metadata": {},
   "source": [
    "drop duplicates"
   ]
  },
  {
   "cell_type": "code",
   "execution_count": 53,
   "metadata": {},
   "outputs": [
    {
     "data": {
      "text/plain": [
       "(38577, 31)"
      ]
     },
     "execution_count": 53,
     "metadata": {},
     "output_type": "execute_result"
    }
   ],
   "source": [
    "loan_data.drop_duplicates(keep='first', inplace=True)\n",
    "loan_data.shape"
   ]
  },
  {
   "cell_type": "markdown",
   "metadata": {},
   "source": [
    "#### Adding derived columns"
   ]
  },
  {
   "cell_type": "code",
   "execution_count": 54,
   "metadata": {},
   "outputs": [
    {
     "data": {
      "text/html": [
       "<div>\n",
       "<style scoped>\n",
       "    .dataframe tbody tr th:only-of-type {\n",
       "        vertical-align: middle;\n",
       "    }\n",
       "\n",
       "    .dataframe tbody tr th {\n",
       "        vertical-align: top;\n",
       "    }\n",
       "\n",
       "    .dataframe thead th {\n",
       "        text-align: right;\n",
       "    }\n",
       "</style>\n",
       "<table border=\"1\" class=\"dataframe\">\n",
       "  <thead>\n",
       "    <tr style=\"text-align: right;\">\n",
       "      <th></th>\n",
       "      <th>id</th>\n",
       "      <th>member_id</th>\n",
       "      <th>loan_amnt</th>\n",
       "      <th>funded_amnt</th>\n",
       "      <th>funded_amnt_inv</th>\n",
       "      <th>term</th>\n",
       "      <th>int_rate</th>\n",
       "      <th>installment</th>\n",
       "      <th>grade</th>\n",
       "      <th>sub_grade</th>\n",
       "      <th>emp_title</th>\n",
       "      <th>emp_length</th>\n",
       "      <th>home_ownership</th>\n",
       "      <th>annual_inc</th>\n",
       "      <th>verification_status</th>\n",
       "      <th>issue_d</th>\n",
       "      <th>loan_status</th>\n",
       "      <th>url</th>\n",
       "      <th>desc</th>\n",
       "      <th>purpose</th>\n",
       "      <th>title</th>\n",
       "      <th>zip_code</th>\n",
       "      <th>addr_state</th>\n",
       "      <th>dti</th>\n",
       "      <th>mths_since_last_delinq</th>\n",
       "      <th>mths_since_last_record</th>\n",
       "      <th>next_pymnt_d</th>\n",
       "      <th>collections_12_mths_ex_med</th>\n",
       "      <th>chargeoff_within_12_mths</th>\n",
       "      <th>pub_rec_bankruptcies</th>\n",
       "      <th>tax_liens</th>\n",
       "      <th>has_defaulted</th>\n",
       "    </tr>\n",
       "  </thead>\n",
       "  <tbody>\n",
       "    <tr>\n",
       "      <th>0</th>\n",
       "      <td>1077501</td>\n",
       "      <td>1296599</td>\n",
       "      <td>5000</td>\n",
       "      <td>5000</td>\n",
       "      <td>4975.0</td>\n",
       "      <td>36 months</td>\n",
       "      <td>10.65%</td>\n",
       "      <td>162.87</td>\n",
       "      <td>B</td>\n",
       "      <td>B2</td>\n",
       "      <td>NaN</td>\n",
       "      <td>10+ years</td>\n",
       "      <td>RENT</td>\n",
       "      <td>24000.0</td>\n",
       "      <td>Verified</td>\n",
       "      <td>Dec-11</td>\n",
       "      <td>Fully Paid</td>\n",
       "      <td>https://lendingclub.com/browse/loanDetail.acti...</td>\n",
       "      <td>Borrower added on 12/22/11 &gt; I need to upgra...</td>\n",
       "      <td>credit_card</td>\n",
       "      <td>Computer</td>\n",
       "      <td>860xx</td>\n",
       "      <td>AZ</td>\n",
       "      <td>27.65</td>\n",
       "      <td>NaN</td>\n",
       "      <td>NaN</td>\n",
       "      <td>NaN</td>\n",
       "      <td>0.0</td>\n",
       "      <td>0.0</td>\n",
       "      <td>0.0</td>\n",
       "      <td>0.0</td>\n",
       "      <td>0</td>\n",
       "    </tr>\n",
       "    <tr>\n",
       "      <th>1</th>\n",
       "      <td>1077430</td>\n",
       "      <td>1314167</td>\n",
       "      <td>2500</td>\n",
       "      <td>2500</td>\n",
       "      <td>2500.0</td>\n",
       "      <td>60 months</td>\n",
       "      <td>15.27%</td>\n",
       "      <td>59.83</td>\n",
       "      <td>C</td>\n",
       "      <td>C4</td>\n",
       "      <td>Ryder</td>\n",
       "      <td>&lt; 1 year</td>\n",
       "      <td>RENT</td>\n",
       "      <td>30000.0</td>\n",
       "      <td>Source Verified</td>\n",
       "      <td>Dec-11</td>\n",
       "      <td>Charged Off</td>\n",
       "      <td>https://lendingclub.com/browse/loanDetail.acti...</td>\n",
       "      <td>Borrower added on 12/22/11 &gt; I plan to use t...</td>\n",
       "      <td>car</td>\n",
       "      <td>bike</td>\n",
       "      <td>309xx</td>\n",
       "      <td>GA</td>\n",
       "      <td>1.00</td>\n",
       "      <td>NaN</td>\n",
       "      <td>NaN</td>\n",
       "      <td>NaN</td>\n",
       "      <td>0.0</td>\n",
       "      <td>0.0</td>\n",
       "      <td>0.0</td>\n",
       "      <td>0.0</td>\n",
       "      <td>1</td>\n",
       "    </tr>\n",
       "  </tbody>\n",
       "</table>\n",
       "</div>"
      ],
      "text/plain": [
       "        id  member_id  loan_amnt  funded_amnt  funded_amnt_inv        term  \\\n",
       "0  1077501    1296599       5000         5000           4975.0   36 months   \n",
       "1  1077430    1314167       2500         2500           2500.0   60 months   \n",
       "\n",
       "  int_rate  installment grade sub_grade emp_title emp_length home_ownership  \\\n",
       "0   10.65%       162.87     B        B2       NaN  10+ years           RENT   \n",
       "1   15.27%        59.83     C        C4     Ryder   < 1 year           RENT   \n",
       "\n",
       "   annual_inc verification_status issue_d  loan_status  \\\n",
       "0     24000.0            Verified  Dec-11   Fully Paid   \n",
       "1     30000.0     Source Verified  Dec-11  Charged Off   \n",
       "\n",
       "                                                 url  \\\n",
       "0  https://lendingclub.com/browse/loanDetail.acti...   \n",
       "1  https://lendingclub.com/browse/loanDetail.acti...   \n",
       "\n",
       "                                                desc      purpose     title  \\\n",
       "0    Borrower added on 12/22/11 > I need to upgra...  credit_card  Computer   \n",
       "1    Borrower added on 12/22/11 > I plan to use t...          car      bike   \n",
       "\n",
       "  zip_code addr_state    dti  mths_since_last_delinq  mths_since_last_record  \\\n",
       "0    860xx         AZ  27.65                     NaN                     NaN   \n",
       "1    309xx         GA   1.00                     NaN                     NaN   \n",
       "\n",
       "  next_pymnt_d  collections_12_mths_ex_med  chargeoff_within_12_mths  \\\n",
       "0          NaN                         0.0                       0.0   \n",
       "1          NaN                         0.0                       0.0   \n",
       "\n",
       "   pub_rec_bankruptcies  tax_liens  has_defaulted  \n",
       "0                   0.0        0.0              0  \n",
       "1                   0.0        0.0              1  "
      ]
     },
     "execution_count": 54,
     "metadata": {},
     "output_type": "execute_result"
    }
   ],
   "source": [
    "loan_data['has_defaulted'] = loan_data['loan_status'].apply(lambda x: 1 if x == 'Charged Off' else 0)\n",
    "loan_data.head(2)"
   ]
  },
  {
   "cell_type": "markdown",
   "metadata": {},
   "source": [
    "Formating data"
   ]
  },
  {
   "cell_type": "code",
   "execution_count": 55,
   "metadata": {},
   "outputs": [
    {
     "data": {
      "text/plain": [
       "0    10.65\n",
       "1    15.27\n",
       "2    15.96\n",
       "3    13.49\n",
       "5     7.90\n",
       "Name: int_rate, dtype: float64"
      ]
     },
     "execution_count": 55,
     "metadata": {},
     "output_type": "execute_result"
    }
   ],
   "source": [
    "loan_data['int_rate'].replace('%', '', inplace=True, regex=True)\n",
    "loan_data['int_rate'] =loan_data['int_rate'].astype('float64')\n",
    "loan_data.int_rate.head()"
   ]
  },
  {
   "cell_type": "markdown",
   "metadata": {},
   "source": [
    "### univariate analysis"
   ]
  },
  {
   "cell_type": "code",
   "execution_count": 56,
   "metadata": {
    "scrolled": true
   },
   "outputs": [
    {
     "data": {
      "text/plain": [
       "['id',\n",
       " 'member_id',\n",
       " 'loan_amnt',\n",
       " 'funded_amnt',\n",
       " 'funded_amnt_inv',\n",
       " 'term',\n",
       " 'int_rate',\n",
       " 'installment',\n",
       " 'grade',\n",
       " 'sub_grade',\n",
       " 'emp_title',\n",
       " 'emp_length',\n",
       " 'home_ownership',\n",
       " 'annual_inc',\n",
       " 'verification_status',\n",
       " 'issue_d',\n",
       " 'loan_status',\n",
       " 'url',\n",
       " 'desc',\n",
       " 'purpose',\n",
       " 'title',\n",
       " 'zip_code',\n",
       " 'addr_state',\n",
       " 'dti',\n",
       " 'mths_since_last_delinq',\n",
       " 'mths_since_last_record',\n",
       " 'next_pymnt_d',\n",
       " 'collections_12_mths_ex_med',\n",
       " 'chargeoff_within_12_mths',\n",
       " 'pub_rec_bankruptcies',\n",
       " 'tax_liens',\n",
       " 'has_defaulted']"
      ]
     },
     "execution_count": 56,
     "metadata": {},
     "output_type": "execute_result"
    }
   ],
   "source": [
    "list(loan_data.columns)"
   ]
  },
  {
   "cell_type": "code",
   "execution_count": 57,
   "metadata": {
    "scrolled": true
   },
   "outputs": [
    {
     "data": {
      "text/plain": [
       "<seaborn.axisgrid.FacetGrid at 0x19b49302fa0>"
      ]
     },
     "execution_count": 57,
     "metadata": {},
     "output_type": "execute_result"
    },
    {
     "data": {
      "image/png": "[encoded data removed]",
      "text/plain": [
       "<Figure size 360x360 with 1 Axes>"
      ]
     },
     "metadata": {
      "needs_background": "light"
     },
     "output_type": "display_data"
    }
   ],
   "source": [
    "sns.displot(data=loan_data.funded_amnt_inv,bins=20)"
   ]
  },
  {
   "cell_type": "markdown",
   "metadata": {},
   "source": []
  },
  {
   "cell_type": "code",
   "execution_count": 58,
   "metadata": {},
   "outputs": [
    {
     "data": {
      "text/plain": [
       "<AxesSubplot:xlabel='loan_status'>"
      ]
     },
     "execution_count": 58,
     "metadata": {},
     "output_type": "execute_result"
    },
    {
     "data": {
      "image/png": "[encoded data removed]",
      "text/plain": [
       "<Figure size 432x288 with 1 Axes>"
      ]
     },
     "metadata": {
      "needs_background": "light"
     },
     "output_type": "display_data"
    }
   ],
   "source": [
    "## checking bar plot for loan_status\n",
    "loan_status_grp= loan_data.groupby('loan_status')['loan_status'].count()\n",
    "loan_status_grp.plot.bar()"
   ]
  },
  {
   "cell_type": "code",
   "execution_count": 59,
   "metadata": {},
   "outputs": [
    {
     "data": {
      "text/plain": [
       "<AxesSubplot:xlabel='grade'>"
      ]
     },
     "execution_count": 59,
     "metadata": {},
     "output_type": "execute_result"
    },
    {
     "data": {
      "image/png": "[encoded data removed]",
      "text/plain": [
       "<Figure size 432x288 with 1 Axes>"
      ]
     },
     "metadata": {
      "needs_background": "light"
     },
     "output_type": "display_data"
    }
   ],
   "source": [
    "## checking bar plot for grade\n",
    "grade_grp = loan_data.groupby('grade').grade.count()\n",
    "grade_grp.plot.bar()"
   ]
  },
  {
   "cell_type": "code",
   "execution_count": 60,
   "metadata": {},
   "outputs": [],
   "source": [
    "## checking bar plot for grade\n",
    "income_grp = loan_data.groupby('annual_inc').annual_inc.count()\n",
    "# income_grp.plot.bar()\n",
    "# loan_data['annual_inc']"
   ]
  },
  {
   "cell_type": "markdown",
   "metadata": {},
   "source": [
    "#### Bivariate Analysis"
   ]
  },
  {
   "cell_type": "code",
   "execution_count": 61,
   "metadata": {},
   "outputs": [
    {
     "data": {
      "text/plain": [
       "<AxesSubplot:xlabel='loan_status', ylabel='funded_amnt_inv'>"
      ]
     },
     "execution_count": 61,
     "metadata": {},
     "output_type": "execute_result"
    },
    {
     "data": {
      "image/png": "[encoded data removed]",
      "text/plain": [
       "<Figure size 432x288 with 1 Axes>"
      ]
     },
     "metadata": {
      "needs_background": "light"
     },
     "output_type": "display_data"
    }
   ],
   "source": [
    "## finding outliers in box plot\n",
    "sns.boxplot(x = 'loan_status', y = 'funded_amnt_inv', data = loan_data)"
   ]
  },
  {
   "cell_type": "code",
   "execution_count": 62,
   "metadata": {},
   "outputs": [],
   "source": [
    "# let us first create a bucket for annual_income\n",
    "def buckets(inc):\n",
    "    if inc<=50000:\n",
    "        return 'low'\n",
    "    elif inc>50000 and inc<=90000:\n",
    "        return 'medium'\n",
    "    else:\n",
    "        return 'high'            \n",
    "loan_data['income_category'] = loan_data.annual_inc.apply(lambda x: buckets(x))"
   ]
  },
  {
   "cell_type": "code",
   "execution_count": 63,
   "metadata": {},
   "outputs": [
    {
     "data": {
      "text/plain": [
       "<AxesSubplot:xlabel='loan_status', ylabel='loan_amnt'>"
      ]
     },
     "execution_count": 63,
     "metadata": {},
     "output_type": "execute_result"
    },
    {
     "data": {
      "image/png": "[encoded data removed]",
      "text/plain": [
       "<Figure size 432x288 with 1 Axes>"
      ]
     },
     "metadata": {
      "needs_background": "light"
     },
     "output_type": "display_data"
    }
   ],
   "source": [
    "# Analysis on loan status, loan amount and income category\n",
    "sns.barplot(x=\"loan_status\", y=\"loan_amnt\", hue=\"income_category\", data=loan_data)"
   ]
  },
  {
   "cell_type": "code",
   "execution_count": 64,
   "metadata": {},
   "outputs": [
    {
     "data": {
      "text/plain": [
       "<AxesSubplot:xlabel='income_category', ylabel='has_defaulted'>"
      ]
     },
     "execution_count": 64,
     "metadata": {},
     "output_type": "execute_result"
    },
    {
     "data": {
      "image/png": "[encoded data removed]",
      "text/plain": [
       "<Figure size 432x288 with 1 Axes>"
      ]
     },
     "metadata": {
      "needs_background": "light"
     },
     "output_type": "display_data"
    }
   ],
   "source": [
    "sns.barplot(x=\"income_category\", y=\"has_defaulted\",  data=loan_data)"
   ]
  },
  {
   "cell_type": "code",
   "execution_count": 65,
   "metadata": {},
   "outputs": [
    {
     "name": "stdout",
     "output_type": "stream",
     "text": [
      "Precentage of Defaulters in Every income Level\n",
      "High 10.93\n",
      "Medium 13.98\n",
      "Low 16.98\n"
     ]
    }
   ],
   "source": [
    "print('Precentage of Defaulters in Every income Level')\n",
    "print('High',round(loan_data[(loan_data['income_category']=='high')&(loan_data['loan_status']=='Charged Off')].shape[0]/loan_data[loan_data['income_category']=='high'].shape[0]*100,2))\n",
    "print('Medium',round(loan_data[(loan_data['income_category']=='medium')&(loan_data['loan_status']=='Charged Off')].shape[0]/loan_data[loan_data['income_category']=='medium'].shape[0]*100,2))\n",
    "print('Low',round(loan_data[(loan_data['income_category']=='low')&(loan_data['loan_status']=='Charged Off')].shape[0]/loan_data[loan_data['income_category']=='low'].shape[0]*100,2))\n"
   ]
  },
  {
   "cell_type": "markdown",
   "metadata": {},
   "source": [
    "#### Observations:\n",
    "\n",
    "- From above bar plots we can observe that the loan amount increases when borrower has high income level.\n",
    "- The defaulters are present more in low income group.\n"
   ]
  },
  {
   "cell_type": "markdown",
   "metadata": {},
   "source": [
    "#### Defaults variation interest rate:"
   ]
  },
  {
   "cell_type": "code",
   "execution_count": 66,
   "metadata": {},
   "outputs": [],
   "source": [
    "# Generic function to show bar plot\n",
    "\n",
    "def barplot(data, xcolumn,  ycolumn, bins=5,width=20,height=5,title=\"\"):\n",
    "    xrange = pd.cut(data[xcolumn], bins)\n",
    "    df = pd.DataFrame({ xcolumn : xrange, ycolumn : data[ycolumn]})\n",
    "    sns.barplot(y=df[ycolumn], x=df[xcolumn],).set(title=title)\n",
    "    plt.figure(figsize=(width, height))\n",
    "    plt.show()"
   ]
  },
  {
   "cell_type": "code",
   "execution_count": 67,
   "metadata": {},
   "outputs": [
    {
     "data": {
      "image/png": "[encoded data removed]",
      "text/plain": [
       "<Figure size 432x288 with 1 Axes>"
      ]
     },
     "metadata": {
      "needs_background": "light"
     },
     "output_type": "display_data"
    },
    {
     "data": {
      "text/plain": [
       "<Figure size 1440x360 with 0 Axes>"
      ]
     },
     "metadata": {},
     "output_type": "display_data"
    }
   ],
   "source": [
    "barplot(loan_data, xcolumn='int_rate',ycolumn='has_defaulted',bins=4)\n"
   ]
  },
  {
   "cell_type": "markdown",
   "metadata": {},
   "source": [
    "#### Observations:\n",
    "\n",
    "- From above bar plot we can observe that higher interest rate has high defaults.\n"
   ]
  },
  {
   "cell_type": "markdown",
   "metadata": {},
   "source": [
    "#### Defaults check with long term vs short term"
   ]
  },
  {
   "cell_type": "code",
   "execution_count": 68,
   "metadata": {},
   "outputs": [
    {
     "data": {
      "image/png": "[encoded data removed]",
      "text/plain": [
       "<Figure size 432x288 with 1 Axes>"
      ]
     },
     "metadata": {
      "needs_background": "light"
     },
     "output_type": "display_data"
    },
    {
     "data": {
      "text/plain": [
       "<Figure size 1440x360 with 0 Axes>"
      ]
     },
     "metadata": {},
     "output_type": "display_data"
    },
    {
     "data": {
      "image/png": "[encoded data removed]",
      "text/plain": [
       "<Figure size 432x288 with 1 Axes>"
      ]
     },
     "metadata": {
      "needs_background": "light"
     },
     "output_type": "display_data"
    },
    {
     "data": {
      "text/plain": [
       "<Figure size 1440x360 with 0 Axes>"
      ]
     },
     "metadata": {},
     "output_type": "display_data"
    }
   ],
   "source": [
    "lt_loan = loan_data[loan_data.term ==' 60 months']\n",
    "barplot(lt_loan, xcolumn='int_rate',ycolumn='has_defaulted',bins=4,title=\"Long Term\")\n",
    "\n",
    "st_loan = loan_data[loan_data.term ==' 36 months']\n",
    "barplot(st_loan, xcolumn='int_rate',ycolumn='has_defaulted',bins=4,title=\"Short Term\")"
   ]
  },
  {
   "cell_type": "markdown",
   "metadata": {},
   "source": [
    "#### Observations:\n",
    "\n",
    "- From above bar plot we can observe that long term loans has high defaults."
   ]
  },
  {
   "cell_type": "markdown",
   "metadata": {},
   "source": [
    "#### Bivariate analysis with Employment length"
   ]
  },
  {
   "cell_type": "code",
   "execution_count": 69,
   "metadata": {},
   "outputs": [
    {
     "data": {
      "text/html": [
       "<style type=\"text/css\">\n",
       "#T_4261a_row0_col0, #T_4261a_row0_col1, #T_4261a_row0_col2 {\n",
       "  background-color: #023858;\n",
       "  color: #f1f1f1;\n",
       "}\n",
       "#T_4261a_row1_col0, #T_4261a_row1_col1, #T_4261a_row1_col2 {\n",
       "  background-color: #fff7fb;\n",
       "  color: #000000;\n",
       "}\n",
       "</style>\n",
       "<table id=\"T_4261a_\">\n",
       "  <thead>\n",
       "    <tr>\n",
       "      <th class=\"index_name level0\" >emp_exp</th>\n",
       "      <th class=\"col_heading level0 col0\" >high</th>\n",
       "      <th class=\"col_heading level0 col1\" >low</th>\n",
       "      <th class=\"col_heading level0 col2\" >medium</th>\n",
       "    </tr>\n",
       "    <tr>\n",
       "      <th class=\"index_name level0\" >has_defaulted</th>\n",
       "      <th class=\"blank col0\" >&nbsp;</th>\n",
       "      <th class=\"blank col1\" >&nbsp;</th>\n",
       "      <th class=\"blank col2\" >&nbsp;</th>\n",
       "    </tr>\n",
       "  </thead>\n",
       "  <tbody>\n",
       "    <tr>\n",
       "      <th id=\"T_4261a_level0_row0\" class=\"row_heading level0 row0\" >0</th>\n",
       "      <td id=\"T_4261a_row0_col0\" class=\"data row0 col0\" >10262</td>\n",
       "      <td id=\"T_4261a_row0_col1\" class=\"data row0 col1\" >13763</td>\n",
       "      <td id=\"T_4261a_row0_col2\" class=\"data row0 col2\" >8925</td>\n",
       "    </tr>\n",
       "    <tr>\n",
       "      <th id=\"T_4261a_level0_row1\" class=\"row_heading level0 row1\" >1</th>\n",
       "      <td id=\"T_4261a_row1_col0\" class=\"data row1 col0\" >1920</td>\n",
       "      <td id=\"T_4261a_row1_col1\" class=\"data row1 col1\" >2217</td>\n",
       "      <td id=\"T_4261a_row1_col2\" class=\"data row1 col2\" >1490</td>\n",
       "    </tr>\n",
       "  </tbody>\n",
       "</table>\n"
      ],
      "text/plain": [
       "<pandas.io.formats.style.Styler at 0x19b55d57d90>"
      ]
     },
     "execution_count": 69,
     "metadata": {},
     "output_type": "execute_result"
    }
   ],
   "source": [
    "#loan_data['emp_length'].unique()\n",
    "\n",
    "def elbuckets(length):\n",
    "    if length in ['< 1 year','1 year', '2 years', '3 years']:\n",
    "        return 'low'\n",
    "    elif length in ['4 years', '5 years', '6 years','7 years']:\n",
    "        return 'medium'\n",
    "    else:\n",
    "        return 'high'            \n",
    "loan_data['emp_exp'] = loan_data['emp_length'].apply(lambda x: elbuckets(x))\n",
    "\n",
    "pd.crosstab([loan_data['has_defaulted']], columns=loan_data['emp_exp']).style.background_gradient(axis=0)\n"
   ]
  },
  {
   "cell_type": "code",
   "execution_count": 70,
   "metadata": {},
   "outputs": [
    {
     "name": "stdout",
     "output_type": "stream",
     "text": [
      "Precentage of Defaulters in Every emp_exp\n",
      "High 15.76\n",
      "Medium 14.31\n",
      "Low 13.87\n"
     ]
    }
   ],
   "source": [
    "\n",
    "print('Precentage of Defaulters in Every emp_exp')\n",
    "print('High',round(loan_data[(loan_data['emp_exp']=='high')&(loan_data['has_defaulted']==1)].shape[0]/loan_data[loan_data['emp_exp']=='high'].shape[0]*100,2))\n",
    "print('Medium',round(loan_data[(loan_data['emp_exp']=='medium')&(loan_data['has_defaulted']==1)].shape[0]/loan_data[loan_data['emp_exp']=='medium'].shape[0]*100,2))\n",
    "print('Low',round(loan_data[(loan_data['emp_exp']=='low')&(loan_data['has_defaulted']==1)].shape[0]/loan_data[loan_data['emp_exp']=='low'].shape[0]*100,2))\n"
   ]
  },
  {
   "cell_type": "markdown",
   "metadata": {},
   "source": [
    "##### Observation: There is not much diffenrce in percentage of loan defaulters with respect to Employment length."
   ]
  },
  {
   "cell_type": "markdown",
   "metadata": {},
   "source": [
    "#### Analysis with grade, loan status and income category "
   ]
  },
  {
   "cell_type": "code",
   "execution_count": 71,
   "metadata": {},
   "outputs": [
    {
     "data": {
      "text/html": [
       "<style type=\"text/css\">\n",
       "#T_9eb09_row0_col0, #T_9eb09_row10_col1 {\n",
       "  background-color: #fdf5fa;\n",
       "  color: #000000;\n",
       "}\n",
       "#T_9eb09_row0_col1 {\n",
       "  background-color: #f3edf5;\n",
       "  color: #000000;\n",
       "}\n",
       "#T_9eb09_row0_col2, #T_9eb09_row13_col0 {\n",
       "  background-color: #faf2f8;\n",
       "  color: #000000;\n",
       "}\n",
       "#T_9eb09_row1_col0 {\n",
       "  background-color: #045585;\n",
       "  color: #f1f1f1;\n",
       "}\n",
       "#T_9eb09_row1_col1 {\n",
       "  background-color: #034f7d;\n",
       "  color: #f1f1f1;\n",
       "}\n",
       "#T_9eb09_row1_col2 {\n",
       "  background-color: #034871;\n",
       "  color: #f1f1f1;\n",
       "}\n",
       "#T_9eb09_row2_col0 {\n",
       "  background-color: #f4edf6;\n",
       "  color: #000000;\n",
       "}\n",
       "#T_9eb09_row2_col1 {\n",
       "  background-color: #e2dfee;\n",
       "  color: #000000;\n",
       "}\n",
       "#T_9eb09_row2_col2 {\n",
       "  background-color: #ede8f3;\n",
       "  color: #000000;\n",
       "}\n",
       "#T_9eb09_row3_col0, #T_9eb09_row3_col1, #T_9eb09_row3_col2 {\n",
       "  background-color: #023858;\n",
       "  color: #f1f1f1;\n",
       "}\n",
       "#T_9eb09_row4_col0, #T_9eb09_row6_col0 {\n",
       "  background-color: #f4eef6;\n",
       "  color: #000000;\n",
       "}\n",
       "#T_9eb09_row4_col1 {\n",
       "  background-color: #e4e1ef;\n",
       "  color: #000000;\n",
       "}\n",
       "#T_9eb09_row4_col2 {\n",
       "  background-color: #eee9f3;\n",
       "  color: #000000;\n",
       "}\n",
       "#T_9eb09_row5_col0 {\n",
       "  background-color: #328dbf;\n",
       "  color: #f1f1f1;\n",
       "}\n",
       "#T_9eb09_row5_col1 {\n",
       "  background-color: #2987bc;\n",
       "  color: #f1f1f1;\n",
       "}\n",
       "#T_9eb09_row5_col2 {\n",
       "  background-color: #4295c3;\n",
       "  color: #f1f1f1;\n",
       "}\n",
       "#T_9eb09_row6_col1 {\n",
       "  background-color: #eee8f3;\n",
       "  color: #000000;\n",
       "}\n",
       "#T_9eb09_row6_col2, #T_9eb09_row11_col0 {\n",
       "  background-color: #f0eaf4;\n",
       "  color: #000000;\n",
       "}\n",
       "#T_9eb09_row7_col0 {\n",
       "  background-color: #9ab8d8;\n",
       "  color: #000000;\n",
       "}\n",
       "#T_9eb09_row7_col1 {\n",
       "  background-color: #a7bddb;\n",
       "  color: #000000;\n",
       "}\n",
       "#T_9eb09_row7_col2 {\n",
       "  background-color: #a5bddb;\n",
       "  color: #000000;\n",
       "}\n",
       "#T_9eb09_row8_col0 {\n",
       "  background-color: #f6eff7;\n",
       "  color: #000000;\n",
       "}\n",
       "#T_9eb09_row8_col1, #T_9eb09_row11_col2 {\n",
       "  background-color: #f7f0f7;\n",
       "  color: #000000;\n",
       "}\n",
       "#T_9eb09_row8_col2 {\n",
       "  background-color: #f5eff6;\n",
       "  color: #000000;\n",
       "}\n",
       "#T_9eb09_row9_col0 {\n",
       "  background-color: #cacee5;\n",
       "  color: #000000;\n",
       "}\n",
       "#T_9eb09_row9_col1 {\n",
       "  background-color: #eae6f1;\n",
       "  color: #000000;\n",
       "}\n",
       "#T_9eb09_row9_col2 {\n",
       "  background-color: #dfddec;\n",
       "  color: #000000;\n",
       "}\n",
       "#T_9eb09_row10_col0, #T_9eb09_row10_col2, #T_9eb09_row11_col1 {\n",
       "  background-color: #fbf3f9;\n",
       "  color: #000000;\n",
       "}\n",
       "#T_9eb09_row12_col0, #T_9eb09_row12_col1, #T_9eb09_row12_col2, #T_9eb09_row13_col1 {\n",
       "  background-color: #fff7fb;\n",
       "  color: #000000;\n",
       "}\n",
       "#T_9eb09_row13_col2 {\n",
       "  background-color: #fef6fb;\n",
       "  color: #000000;\n",
       "}\n",
       "</style>\n",
       "<table id=\"T_9eb09_\">\n",
       "  <thead>\n",
       "    <tr>\n",
       "      <th class=\"blank\" >&nbsp;</th>\n",
       "      <th class=\"index_name level0\" >income_category</th>\n",
       "      <th class=\"col_heading level0 col0\" >high</th>\n",
       "      <th class=\"col_heading level0 col1\" >low</th>\n",
       "      <th class=\"col_heading level0 col2\" >medium</th>\n",
       "    </tr>\n",
       "    <tr>\n",
       "      <th class=\"index_name level0\" >grade</th>\n",
       "      <th class=\"index_name level1\" >loan_status</th>\n",
       "      <th class=\"blank col0\" >&nbsp;</th>\n",
       "      <th class=\"blank col1\" >&nbsp;</th>\n",
       "      <th class=\"blank col2\" >&nbsp;</th>\n",
       "    </tr>\n",
       "  </thead>\n",
       "  <tbody>\n",
       "    <tr>\n",
       "      <th id=\"T_9eb09_level0_row0\" class=\"row_heading level0 row0\" rowspan=\"2\">A</th>\n",
       "      <th id=\"T_9eb09_level1_row0\" class=\"row_heading level1 row0\" >Charged Off</th>\n",
       "      <td id=\"T_9eb09_row0_col0\" class=\"data row0 col0\" >53</td>\n",
       "      <td id=\"T_9eb09_row0_col1\" class=\"data row0 col1\" >348</td>\n",
       "      <td id=\"T_9eb09_row0_col2\" class=\"data row0 col2\" >201</td>\n",
       "    </tr>\n",
       "    <tr>\n",
       "      <th id=\"T_9eb09_level1_row1\" class=\"row_heading level1 row1\" >Fully Paid</th>\n",
       "      <td id=\"T_9eb09_row1_col0\" class=\"data row1 col0\" >1759</td>\n",
       "      <td id=\"T_9eb09_row1_col1\" class=\"data row1 col1\" >3718</td>\n",
       "      <td id=\"T_9eb09_row1_col2\" class=\"data row1 col2\" >3966</td>\n",
       "    </tr>\n",
       "    <tr>\n",
       "      <th id=\"T_9eb09_level0_row2\" class=\"row_heading level0 row2\" rowspan=\"2\">B</th>\n",
       "      <th id=\"T_9eb09_level1_row2\" class=\"row_heading level1 row2\" >Charged Off</th>\n",
       "      <td id=\"T_9eb09_row2_col0\" class=\"data row2 col0\" >173</td>\n",
       "      <td id=\"T_9eb09_row2_col1\" class=\"data row2 col1\" >719</td>\n",
       "      <td id=\"T_9eb09_row2_col2\" class=\"data row2 col2\" >533</td>\n",
       "    </tr>\n",
       "    <tr>\n",
       "      <th id=\"T_9eb09_level1_row3\" class=\"row_heading level1 row3\" >Fully Paid</th>\n",
       "      <td id=\"T_9eb09_row3_col0\" class=\"data row3 col0\" >1965</td>\n",
       "      <td id=\"T_9eb09_row3_col1\" class=\"data row3 col1\" >4068</td>\n",
       "      <td id=\"T_9eb09_row3_col2\" class=\"data row3 col2\" >4217</td>\n",
       "    </tr>\n",
       "    <tr>\n",
       "      <th id=\"T_9eb09_level0_row4\" class=\"row_heading level0 row4\" rowspan=\"2\">C</th>\n",
       "      <th id=\"T_9eb09_level1_row4\" class=\"row_heading level1 row4\" >Charged Off</th>\n",
       "      <td id=\"T_9eb09_row4_col0\" class=\"data row4 col0\" >168</td>\n",
       "      <td id=\"T_9eb09_row4_col1\" class=\"data row4 col1\" >679</td>\n",
       "      <td id=\"T_9eb09_row4_col2\" class=\"data row4 col2\" >500</td>\n",
       "    </tr>\n",
       "    <tr>\n",
       "      <th id=\"T_9eb09_level1_row5\" class=\"row_heading level1 row5\" >Fully Paid</th>\n",
       "      <td id=\"T_9eb09_row5_col0\" class=\"data row5 col0\" >1255</td>\n",
       "      <td id=\"T_9eb09_row5_col1\" class=\"data row5 col1\" >2690</td>\n",
       "      <td id=\"T_9eb09_row5_col2\" class=\"data row5 col2\" >2542</td>\n",
       "    </tr>\n",
       "    <tr>\n",
       "      <th id=\"T_9eb09_level0_row6\" class=\"row_heading level0 row6\" rowspan=\"2\">D</th>\n",
       "      <th id=\"T_9eb09_level1_row6\" class=\"row_heading level1 row6\" >Charged Off</th>\n",
       "      <td id=\"T_9eb09_row6_col0\" class=\"data row6 col0\" >169</td>\n",
       "      <td id=\"T_9eb09_row6_col1\" class=\"data row6 col1\" >498</td>\n",
       "      <td id=\"T_9eb09_row6_col2\" class=\"data row6 col2\" >451</td>\n",
       "    </tr>\n",
       "    <tr>\n",
       "      <th id=\"T_9eb09_level1_row7\" class=\"row_heading level1 row7\" >Fully Paid</th>\n",
       "      <td id=\"T_9eb09_row7_col0\" class=\"data row7 col0\" >814</td>\n",
       "      <td id=\"T_9eb09_row7_col1\" class=\"data row7 col1\" >1538</td>\n",
       "      <td id=\"T_9eb09_row7_col2\" class=\"data row7 col2\" >1615</td>\n",
       "    </tr>\n",
       "    <tr>\n",
       "      <th id=\"T_9eb09_level0_row8\" class=\"row_heading level0 row8\" rowspan=\"2\">E</th>\n",
       "      <th id=\"T_9eb09_level1_row8\" class=\"row_heading level1 row8\" >Charged Off</th>\n",
       "      <td id=\"T_9eb09_row8_col0\" class=\"data row8 col0\" >146</td>\n",
       "      <td id=\"T_9eb09_row8_col1\" class=\"data row8 col1\" >260</td>\n",
       "      <td id=\"T_9eb09_row8_col2\" class=\"data row8 col2\" >309</td>\n",
       "    </tr>\n",
       "    <tr>\n",
       "      <th id=\"T_9eb09_level1_row9\" class=\"row_heading level1 row9\" >Fully Paid</th>\n",
       "      <td id=\"T_9eb09_row9_col0\" class=\"data row9 col0\" >547</td>\n",
       "      <td id=\"T_9eb09_row9_col1\" class=\"data row9 col1\" >579</td>\n",
       "      <td id=\"T_9eb09_row9_col2\" class=\"data row9 col2\" >822</td>\n",
       "    </tr>\n",
       "    <tr>\n",
       "      <th id=\"T_9eb09_level0_row10\" class=\"row_heading level0 row10\" rowspan=\"2\">F</th>\n",
       "      <th id=\"T_9eb09_level1_row10\" class=\"row_heading level1 row10\" >Charged Off</th>\n",
       "      <td id=\"T_9eb09_row10_col0\" class=\"data row10 col0\" >81</td>\n",
       "      <td id=\"T_9eb09_row10_col1\" class=\"data row10 col1\" >79</td>\n",
       "      <td id=\"T_9eb09_row10_col2\" class=\"data row10 col2\" >159</td>\n",
       "    </tr>\n",
       "    <tr>\n",
       "      <th id=\"T_9eb09_level1_row11\" class=\"row_heading level1 row11\" >Fully Paid</th>\n",
       "      <td id=\"T_9eb09_row11_col0\" class=\"data row11 col0\" >230</td>\n",
       "      <td id=\"T_9eb09_row11_col1\" class=\"data row11 col1\" >152</td>\n",
       "      <td id=\"T_9eb09_row11_col2\" class=\"data row11 col2\" >275</td>\n",
       "    </tr>\n",
       "    <tr>\n",
       "      <th id=\"T_9eb09_level0_row12\" class=\"row_heading level0 row12\" rowspan=\"2\">G</th>\n",
       "      <th id=\"T_9eb09_level1_row12\" class=\"row_heading level1 row12\" >Charged Off</th>\n",
       "      <td id=\"T_9eb09_row12_col0\" class=\"data row12 col0\" >28</td>\n",
       "      <td id=\"T_9eb09_row12_col1\" class=\"data row12 col1\" >30</td>\n",
       "      <td id=\"T_9eb09_row12_col2\" class=\"data row12 col2\" >43</td>\n",
       "    </tr>\n",
       "    <tr>\n",
       "      <th id=\"T_9eb09_level1_row13\" class=\"row_heading level1 row13\" >Fully Paid</th>\n",
       "      <td id=\"T_9eb09_row13_col0\" class=\"data row13 col0\" >97</td>\n",
       "      <td id=\"T_9eb09_row13_col1\" class=\"data row13 col1\" >31</td>\n",
       "      <td id=\"T_9eb09_row13_col2\" class=\"data row13 col2\" >70</td>\n",
       "    </tr>\n",
       "  </tbody>\n",
       "</table>\n"
      ],
      "text/plain": [
       "<pandas.io.formats.style.Styler at 0x19b558a1850>"
      ]
     },
     "execution_count": 71,
     "metadata": {},
     "output_type": "execute_result"
    }
   ],
   "source": [
    "# Analysis based on grade and income category\n",
    "# In each grade of loan getting the count of loans which are fully paid and charged off based on the income level.\n",
    "pd.crosstab([loan_data['grade'],loan_data['loan_status']], columns=loan_data['income_category']).style.background_gradient(axis=0)\n"
   ]
  },
  {
   "cell_type": "code",
   "execution_count": 72,
   "metadata": {},
   "outputs": [
    {
     "data": {
      "text/plain": [
       "<AxesSubplot:xlabel='grade', ylabel='has_defaulted'>"
      ]
     },
     "execution_count": 72,
     "metadata": {},
     "output_type": "execute_result"
    },
    {
     "data": {
      "image/png": "[encoded data removed]",
      "text/plain": [
       "<Figure size 432x288 with 1 Axes>"
      ]
     },
     "metadata": {
      "needs_background": "light"
     },
     "output_type": "display_data"
    }
   ],
   "source": [
    "sns.barplot(x=\"grade\", y=\"has_defaulted\", hue=\"income_category\", data=loan_data)"
   ]
  },
  {
   "cell_type": "markdown",
   "metadata": {},
   "source": [
    "### Observations\n",
    "\n",
    "- The number of loans granted in each grade decreases as we go from grade A to G\n",
    "- In loans with different grades, loan with G grade have defaulted the most."
   ]
  },
  {
   "cell_type": "markdown",
   "metadata": {},
   "source": [
    "## Analysis on home_ownership\n"
   ]
  },
  {
   "cell_type": "code",
   "execution_count": 73,
   "metadata": {},
   "outputs": [
    {
     "data": {
      "text/html": [
       "<style type=\"text/css\">\n",
       "#T_b9e68_row0_col0, #T_b9e68_row0_col1, #T_b9e68_row0_col2, #T_b9e68_row0_col3, #T_b9e68_row0_col4 {\n",
       "  background-color: #fff7fb;\n",
       "  color: #000000;\n",
       "}\n",
       "#T_b9e68_row1_col0, #T_b9e68_row1_col1, #T_b9e68_row1_col2, #T_b9e68_row1_col3, #T_b9e68_row1_col4 {\n",
       "  background-color: #023858;\n",
       "  color: #f1f1f1;\n",
       "}\n",
       "</style>\n",
       "<table id=\"T_b9e68_\">\n",
       "  <thead>\n",
       "    <tr>\n",
       "      <th class=\"index_name level0\" >home_ownership</th>\n",
       "      <th class=\"col_heading level0 col0\" >MORTGAGE</th>\n",
       "      <th class=\"col_heading level0 col1\" >NONE</th>\n",
       "      <th class=\"col_heading level0 col2\" >OTHER</th>\n",
       "      <th class=\"col_heading level0 col3\" >OWN</th>\n",
       "      <th class=\"col_heading level0 col4\" >RENT</th>\n",
       "    </tr>\n",
       "    <tr>\n",
       "      <th class=\"index_name level0\" >loan_status</th>\n",
       "      <th class=\"blank col0\" >&nbsp;</th>\n",
       "      <th class=\"blank col1\" >&nbsp;</th>\n",
       "      <th class=\"blank col2\" >&nbsp;</th>\n",
       "      <th class=\"blank col3\" >&nbsp;</th>\n",
       "      <th class=\"blank col4\" >&nbsp;</th>\n",
       "    </tr>\n",
       "  </thead>\n",
       "  <tbody>\n",
       "    <tr>\n",
       "      <th id=\"T_b9e68_level0_row0\" class=\"row_heading level0 row0\" >Charged Off</th>\n",
       "      <td id=\"T_b9e68_row0_col0\" class=\"data row0 col0\" >2327</td>\n",
       "      <td id=\"T_b9e68_row0_col1\" class=\"data row0 col1\" >0</td>\n",
       "      <td id=\"T_b9e68_row0_col2\" class=\"data row0 col2\" >18</td>\n",
       "      <td id=\"T_b9e68_row0_col3\" class=\"data row0 col3\" >443</td>\n",
       "      <td id=\"T_b9e68_row0_col4\" class=\"data row0 col4\" >2839</td>\n",
       "    </tr>\n",
       "    <tr>\n",
       "      <th id=\"T_b9e68_level0_row1\" class=\"row_heading level0 row1\" >Fully Paid</th>\n",
       "      <td id=\"T_b9e68_row1_col0\" class=\"data row1 col0\" >14694</td>\n",
       "      <td id=\"T_b9e68_row1_col1\" class=\"data row1 col1\" >3</td>\n",
       "      <td id=\"T_b9e68_row1_col2\" class=\"data row1 col2\" >80</td>\n",
       "      <td id=\"T_b9e68_row1_col3\" class=\"data row1 col3\" >2532</td>\n",
       "      <td id=\"T_b9e68_row1_col4\" class=\"data row1 col4\" >15641</td>\n",
       "    </tr>\n",
       "  </tbody>\n",
       "</table>\n"
      ],
      "text/plain": [
       "<pandas.io.formats.style.Styler at 0x19b4fcb86d0>"
      ]
     },
     "execution_count": 73,
     "metadata": {},
     "output_type": "execute_result"
    }
   ],
   "source": [
    "pd.crosstab([loan_data['loan_status']], columns=loan_data['home_ownership']).style.background_gradient(axis=0)"
   ]
  },
  {
   "cell_type": "code",
   "execution_count": 74,
   "metadata": {},
   "outputs": [
    {
     "data": {
      "text/plain": [
       "<AxesSubplot:xlabel='home_ownership', ylabel='has_defaulted'>"
      ]
     },
     "execution_count": 74,
     "metadata": {},
     "output_type": "execute_result"
    },
    {
     "data": {
      "image/png": "[encoded data removed]",
      "text/plain": [
       "<Figure size 432x288 with 1 Axes>"
      ]
     },
     "metadata": {
      "needs_background": "light"
     },
     "output_type": "display_data"
    }
   ],
   "source": [
    "sns.barplot(y=\"has_defaulted\", x=\"home_ownership\", data=loan_data)"
   ]
  },
  {
   "cell_type": "markdown",
   "metadata": {},
   "source": [
    "### Analysis of purpose with defaults"
   ]
  },
  {
   "cell_type": "code",
   "execution_count": 75,
   "metadata": {},
   "outputs": [
    {
     "data": {
      "text/plain": [
       "<AxesSubplot:xlabel='has_defaulted', ylabel='purpose'>"
      ]
     },
     "execution_count": 75,
     "metadata": {},
     "output_type": "execute_result"
    },
    {
     "data": {
      "image/png": "[encoded data removed]",
      "text/plain": [
       "<Figure size 1440x360 with 1 Axes>"
      ]
     },
     "metadata": {
      "needs_background": "light"
     },
     "output_type": "display_data"
    }
   ],
   "source": [
    "plt.figure(figsize=(20, 5))\n",
    "sns.barplot(x=\"has_defaulted\", y=\"purpose\", data=loan_data)"
   ]
  },
  {
   "cell_type": "markdown",
   "metadata": {},
   "source": [
    "### Observation: \n",
    "- Borrowers with purpose 'small_business' have highest rate for defaults."
   ]
  },
  {
   "cell_type": "markdown",
   "metadata": {},
   "source": [
    "### Analysis of pub_rec_bankruptcies with defaults"
   ]
  },
  {
   "cell_type": "code",
   "execution_count": 76,
   "metadata": {},
   "outputs": [
    {
     "data": {
      "text/plain": [
       "<AxesSubplot:xlabel='pub_rec_bankruptcies', ylabel='has_defaulted'>"
      ]
     },
     "execution_count": 76,
     "metadata": {},
     "output_type": "execute_result"
    },
    {
     "data": {
      "image/png": "[encoded data removed]",
      "text/plain": [
       "<Figure size 432x288 with 1 Axes>"
      ]
     },
     "metadata": {
      "needs_background": "light"
     },
     "output_type": "display_data"
    }
   ],
   "source": [
    "sns.barplot(data=loan_data, x='pub_rec_bankruptcies', y='has_defaulted')"
   ]
  },
  {
   "cell_type": "markdown",
   "metadata": {},
   "source": [
    "#### Observations\n",
    "-  Borrowers, who went bankrupt earlier, will most probably default."
   ]
  },
  {
   "cell_type": "markdown",
   "metadata": {},
   "source": [
    "##### Summary of All the Observations\n",
    "\n",
    "\n",
    "* **Annual income**\n",
    "    - loan amount increases when borrower has high income level.\n",
    "    - low income group borrower are less likely to pay the loan.\n",
    "\n",
    "* **Interest rate**: Higher interest rate has led to high defaults.\n",
    "* **Term of loan**: Long term loans has high defaults.\n",
    "* **Grade Analysis**: Providing loan to a borrower with credit grade G could be risky as loan with G grade have defaulted the most.\n",
    "* **Purpose of loan** : Borrowers with purpose 'small_business' have highest rate for defaults\n",
    "* **Earlier Bankrupt Borrowers** :  Borrowers, who went bankrupt earlier, will most probably default.\n",
    "\n",
    "\n",
    "\n",
    "\n",
    "\n"
   ]
  }
 ],
 "metadata": {
  "interpreter": {
   "hash": "7834ddb75d42aec9ae97ba6f455c0f2d1a102faf0527e92c8e609ea10f1e66ba"
  },
  "kernelspec": {
   "display_name": "Python 3 (ipykernel)",
   "language": "python",
   "name": "python3"
  },
  "language_info": {
   "codemirror_mode": {
    "name": "ipython",
    "version": 3
   },
   "file_extension": ".py",
   "mimetype": "text/x-python",
   "name": "python",
   "nbconvert_exporter": "python",
   "pygments_lexer": "ipython3",
   "version": "3.9.7"
  }
 },
 "nbformat": 4,
 "nbformat_minor": 2
}
